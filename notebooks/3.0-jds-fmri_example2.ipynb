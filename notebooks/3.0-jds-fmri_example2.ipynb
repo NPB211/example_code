{
 "cells": [
  {
   "cell_type": "markdown",
   "metadata": {},
   "source": [
    "# fMRI example"
   ]
  },
  {
   "cell_type": "code",
   "execution_count": 25,
   "metadata": {
    "collapsed": true
   },
   "outputs": [],
   "source": [
    "%matplotlib inline\n",
    "import matplotlib\n",
    "import seaborn as sns\n",
    "import matplotlib.pyplot as plt\n",
    "\n",
    "import numpy as np\n",
    "from scipy.io import loadmat\n",
    "from os.path import join\n",
    "import glob\n",
    "import pandas as pd\n",
    "import tensorflow as tf \n",
    "from sklearn import svm\n",
    "from sklearn.metrics import accuracy_score\n",
    "from scipy import stats "
   ]
  },
  {
   "cell_type": "code",
   "execution_count": 5,
   "metadata": {
    "collapsed": true
   },
   "outputs": [],
   "source": [
    "#data dir test \n",
    "data_dir = '../data/greco_mri'\n",
    "behav_dir = '../data/greco_behav'\n",
    "\n",
    "#rois\n",
    "rois = ['left_CA1','right_CA1','left_DG','right_DG'];\n",
    "\n",
    "#subjec list\n",
    "ubjects = np.array(['S1_A','S2_B','S3_A','S4_A','S5_A','S6_A','S7_A','S8_B',\n",
    "            'S9_A','S10_B','S11_B','S12_B','S13_B','S14_B','S15_B',\n",
    "            'S16_A','S21_B','S22_B','S24_A']);"
   ]
  },
  {
   "cell_type": "code",
   "execution_count": null,
   "metadata": {
    "collapsed": false
   },
   "outputs": [],
   "source": [
    "def center_normalize(x):\n",
    "    x_mean_rows = np.mean(x,1).reshape(x.shape[0],1)\n",
    "    x_std_rows = np.std(x,1).reshape(x.shape[0],1)\n",
    "    return (x - x_mean_rows) / x_std_rows\n",
    "\n",
    "def onehot(y):\n",
    "    ynp=np.array(y)\n",
    "    y_onehot=[0]*len(ynp)\n",
    "    for i,j in enumerate(ynp):\n",
    "        y_onehot[i]=[0]*ynp.max()\n",
    "        y_onehot[i][j-1]=1\n",
    "        \n",
    "    return y_onehot\n",
    "def recode20(y):\n",
    "    y_r = np.empty(y.shape)\n",
    "    y_r[y == 1] = 0\n",
    "    y_r[y == 2] = 1\n",
    "    y_r[y == 3] = 2\n",
    "    return y_r\n",
    "\n",
    "   \n",
    "def get_results_all(reg,svm,nn):\n",
    "    print('Logistic regression')\n",
    "    print('mean accuracy: ' + str(np.mean(reg)))\n",
    "    print('Logistic regression (1samp ttest):')\n",
    "    print(stats.ttest_1samp(np.mean(scores_reg,1),.33))\n",
    "    print\n",
    "    print('SVM')\n",
    "    print('mean accuracy: ' + str(np.mean(svm)))\n",
    "    print('1samp ttest:')     \n",
    "    print(stats.ttest_1samp(np.mean(scores_svm,1),.33))\n",
    "    print\n",
    "    print('Neural network')\n",
    "    print('mean accuracy: ' + str(np.mean(nn)))\n",
    "    print('1samp ttest:')\n",
    "    print(stats.ttest_1samp(np.mean(scores_nn,1),.33))\n",
    "def get_results_nn(nn):\n",
    "    print('Neural network')\n",
    "    print('mean accuracy: ' + str(np.mean(scores_nn)))\n",
    "    print('1samp ttest:')\n",
    "    print(stats.ttest_1samp(np.mean(scores_nn,1),.33))\n",
    "    \n",
    "def model_svm(x_train,y_train,x_test,y_test):\n",
    "    C = 1  # SVM regularization parameter\n",
    "    svc = svm.LinearSVC(C=C).fit(x_train, y_train)\n",
    "    y_pred = svc.predict(x_test)\n",
    "    return accuracy_score(y_test, y_pred)\n",
    "\n",
    "def model_tf_regression(x_train,y_train,x_test,y_test):\n",
    "    tf.reset_default_graph()\n",
    "    sess = tf.InteractiveSession()\n",
    "\n",
    "    x = tf.placeholder(tf.float32, shape=[None, x_train.shape[1]])\n",
    "    y_ = tf.placeholder(tf.float32, shape=[None, 3])\n",
    "\n",
    "\n",
    "    W = tf.Variable(tf.zeros([x_train.shape[1],3]))\n",
    "    b = tf.Variable(tf.zeros([3]))\n",
    "\n",
    "    sess.run(tf.global_variables_initializer())\n",
    "\n",
    "    y = tf.matmul(x,W) + b\n",
    "\n",
    "    cross_entropy = tf.reduce_mean(\n",
    "        tf.nn.softmax_cross_entropy_with_logits(labels=y_, logits=y))\n",
    "    \n",
    "    ##train\n",
    "    train_step = tf.train.GradientDescentOptimizer(0.5).minimize(cross_entropy)\n",
    "    for i in range(1000):\n",
    "        train_step.run(feed_dict={x: x_train.tolist(), y_: onehot(y_train)})\n",
    "    \n",
    "    #tf.argmax gives an index of the highest entry in a tensor along some axis\n",
    "    correct_prediction = tf.equal(tf.argmax(y,1), tf.argmax(y_,1))\n",
    "\n",
    "    #we can take this list of booleans and calculate the fraction correct\n",
    "    accuracy = tf.reduce_mean(tf.cast(correct_prediction, tf.float32))\n",
    "    \n",
    "    return accuracy.eval(feed_dict={x: x_test.tolist(), y_: onehot(y_test)})\n",
    "    sess.close()\n"
   ]
  },
  {
   "cell_type": "code",
   "execution_count": null,
   "metadata": {
    "collapsed": false
   },
   "outputs": [],
   "source": [
    "def model_tf_nn_mult(x_train,y_train,x_test,y_test,num_nodes,n_epochs):\n",
    "    tf.reset_default_graph()\n",
    "\n",
    "    n_inputs = x_train.shape[1]\n",
    "    n_outputs = 3\n",
    "    learning_rate = 0.01\n",
    "\n",
    "    n_hidden1=num_nodes[0]\n",
    "    n_hidden2=num_nodes[1]\n",
    "    n_hidden3=num_nodes[2]\n",
    "    def neuron_layer(X, n_neurons, name, activation=None):\n",
    "        with tf.name_scope(name):\n",
    "            n_inputs = int(X.get_shape()[1])\n",
    "            stddev = 1 / np.sqrt(n_inputs)\n",
    "            init = tf.truncated_normal((n_inputs, n_neurons), stddev=stddev)\n",
    "            W = tf.Variable(init, name=\"weights\")\n",
    "            b = tf.Variable(tf.zeros([n_neurons]), name=\"biases\")\n",
    "            Z = tf.matmul(X, W) + b\n",
    "            if activation==\"relu\":\n",
    "                return tf.nn.relu(Z)\n",
    "            else:\n",
    "                return Z\n",
    "    X = tf.placeholder(tf.float32, shape=(None, n_inputs), name=\"X\")\n",
    "    y = tf.placeholder(tf.int64, shape=(None), name=\"y\")\n",
    "    with tf.name_scope(\"dnn\"):\n",
    "        hidden1 = neuron_layer(X, n_hidden1, \"hidden1\", activation=\"relu\")\n",
    "        if n_hidden2 ==0:\n",
    "            logits = neuron_layer(hidden1, n_outputs, \"output\")\n",
    "        elif n_hidden3 ==0:\n",
    "            hidden2 = neuron_layer(hidden1, n_hidden2, \"hidden2\", activation=\"relu\")\n",
    "            logits = neuron_layer(hidden2, n_outputs, \"output\")\n",
    "        else: \n",
    "            hidden2 = neuron_layer(hidden1, n_hidden2, \"hidden2\", activation=\"relu\")\n",
    "            hidden3 = neuron_layer(hidden2, n_hidden3, \"hidden2\", activation=\"relu\")\n",
    "            logits = neuron_layer(hidden3, n_outputs, \"output\")\n",
    "            \n",
    "    with tf.name_scope(\"loss\"):\n",
    "        xentropy = tf.nn.sparse_softmax_cross_entropy_with_logits(labels=y, logits=logits)\n",
    "        loss = tf.reduce_mean(xentropy, name=\"loss\")\n",
    "\n",
    "    with tf.name_scope(\"train\"):\n",
    "        optimizer = tf.train.GradientDescentOptimizer(learning_rate)\n",
    "        training_op = optimizer.minimize(loss)\n",
    "\n",
    "    with tf.name_scope(\"eval\"):\n",
    "        correct = tf.nn.in_top_k(logits, y, 1)\n",
    "        accuracy = tf.reduce_mean(tf.cast(correct, tf.float32))\n",
    "        prediction=tf.argmax(logits,1)\n",
    "            \n",
    "    init = tf.global_variables_initializer()\n",
    "    saver = tf.train.Saver()\n",
    "    \n",
    "#     n_epochs = 50\n",
    "    acc_test_high = 0.0\n",
    "    epoch_high = 0\n",
    "    sess = tf.InteractiveSession()\n",
    "\n",
    "    sess.run(init)\n",
    "    predictions = np.empty(x_test.shape[0])\n",
    "    for epoch in range(n_epochs):\n",
    "        for i in range(x_train.shape[0]):\n",
    "            x_data = x_train[i,:].reshape([1,x_train.shape[1]])\n",
    "            y_data = np.array([y_train[i]])\n",
    "            sess.run(training_op, feed_dict={X: x_data, y: y_data })\n",
    "        \n",
    "        acc_train = accuracy.eval(feed_dict={X: x_train, y: y_train})\n",
    "        acc_test = accuracy.eval(feed_dict={X: x_test, y: y_test})\n",
    "        if acc_test > acc_test_high:\n",
    "            acc_test_high = acc_test\n",
    "            epoch_high = epoch\n",
    "            predictions = prediction.eval(feed_dict={X: x_test})\n",
    "#   print(epoch_high, \"Train accuracy:\", acc_train, \"Test accuracy:\", acc_test)\n",
    "\n",
    "    # save_path = saver.save(sess, \"./one_layer.ckpt\")\n",
    "    return acc_test_high,predictions,epoch_high\n",
    "    sess.close()\n"
   ]
  },
  {
   "cell_type": "code",
   "execution_count": 20,
   "metadata": {
    "collapsed": false
   },
   "outputs": [],
   "source": [
    " def batch_nn(node_array,epochs):\n",
    "    scores_svm = np.empty([subjects.shape[0],4])\n",
    "    scores_reg = np.empty([subjects.shape[0],4])\n",
    "    scores_nn = np.empty([subjects.shape[0],4])\n",
    "    nn_high_epoch = np.empty([subjects.shape[0],4])\n",
    "    ind_scores_nn_y_pred= []\n",
    "    ind_scores_subj = []\n",
    "    ind_scores_run = [] \n",
    "    ind_scores_y_test =[]\n",
    "\n",
    "    for i,subj in enumerate(subjects):\n",
    "        for run in [0,1,2,3]:\n",
    "\n",
    "            behav = pd.read_table(join(behav_dir,subj,subj + '.txt'))\n",
    "\n",
    "            fname = join(data_dir,subj + '_right_DG.csv')\n",
    "            betas= pd.read_csv(fname,header=None)\n",
    "\n",
    "            test_ind   = behav['run_num'] == run\n",
    "            train_ind  = behav['run_num'] != run\n",
    "            y_test     = behav['currCity'][test_ind].as_matrix()        \n",
    "            y_test_r   = recode20(y_test)\n",
    "\n",
    "            y_train    = behav['currCity'][train_ind].as_matrix()\n",
    "            y_train_r  = recode20(y_train)\n",
    "\n",
    "            x_test = center_normalize(betas[test_ind].as_matrix())\n",
    "            x_train = center_normalize(betas[train_ind].as_matrix())\n",
    "\n",
    "            nn_acc,nn_y_pred,nn_epoch = model_tf_nn_mult(x_train,y_train_r,x_test,y_test_r,node_array,epochs)\n",
    "            scores_nn[i,run] = nn_acc\n",
    "            nn_high_epoch[i,run] = nn_epoch\n",
    "            for idx,resp in enumerate(y_test):\n",
    "                ind_scores_y_test.append(resp)\n",
    "                ind_scores_subj.append(subj)\n",
    "                ind_scores_nn_y_pred.append(nn_y_pred[idx] + 1)\n",
    "                ind_scores_run.append(run)\n",
    "\n",
    "#build data frames\n",
    "    nn_scores_ind_df = pd.DataFrame({'subject'  : ind_scores_subj,\n",
    "                         'run'      : ind_scores_run,\n",
    "                         'city'     : ind_scores_y_test,\n",
    "                         'city_pred': ind_scores_nn_y_pred})            \n",
    "\n",
    "\n",
    "    \n",
    "    \n",
    "    return nn_scores_ind_df,scores_nn,nn_high_epoch"
   ]
  },
  {
   "cell_type": "markdown",
   "metadata": {},
   "source": [
    "### Three models with cross validation"
   ]
  },
  {
   "cell_type": "code",
   "execution_count": 24,
   "metadata": {
    "collapsed": false
   },
   "outputs": [],
   "source": [
    "scores_svm = np.empty([subjects.shape[0],4])\n",
    "scores_reg = np.empty([subjects.shape[0],4])\n",
    "scores_nn = np.empty([subjects.shape[0],4])\n",
    "nn_high_epoch = np.empty([subjects.shape[0],4])\n",
    "ind_scores_nn_y_pred= []\n",
    "ind_scores_subj = []\n",
    "ind_scores_run = [] \n",
    "ind_scores_y_test =[]\n",
    "\n",
    "for i,subj in enumerate(subjects):\n",
    "    for run in [0,1,2,3]:\n",
    "\n",
    "        behav = pd.read_table(join(behav_dir,subj,subj + '.txt'))\n",
    "\n",
    "        fname = join(data_dir,subj + '_right_DG.csv')\n",
    "        betas= pd.read_csv(fname,header=None)\n",
    "\n",
    "        test_ind   = behav['run_num'] == run\n",
    "        train_ind  = behav['run_num'] != run\n",
    "        y_test     = behav['currCity'][test_ind].as_matrix()        \n",
    "        y_test_r   = recode20(y_test)\n",
    "\n",
    "        y_train    = behav['currCity'][train_ind].as_matrix()\n",
    "        y_train_r  = recode20(y_train)\n",
    "\n",
    "        x_test  = center_normalize(betas[test_ind].as_matrix())\n",
    "        x_train = center_normalize(betas[train_ind].as_matrix())\n",
    "        scores_svm[i,run]=model_svm(x_train,y_train,x_test,y_test)\n",
    "        scores_reg[i,run]=model_tf_regression(x_train,y_train,x_test,y_test)\n",
    "        nn_acc,nn_y_pred,nn_epoch = model_tf_nn_mult(x_train,y_train_r,x_test,y_test_r,[10,0,0],50)\n",
    "        scores_nn[i,run] = nn_acc\n",
    "        nn_high_epoch[i,run] = nn_epoch\n",
    "        for idx,resp in enumerate(y_test):\n",
    "            ind_scores_y_test.append(resp)\n",
    "            ind_scores_subj.append(subj)\n",
    "            ind_scores_nn_y_pred.append(nn_y_pred[idx] + 1)\n",
    "            ind_scores_run.append(run)"
   ]
  },
  {
   "cell_type": "code",
   "execution_count": 133,
   "metadata": {
    "collapsed": false
   },
   "outputs": [
    {
     "name": "stdout",
     "output_type": "stream",
     "text": [
      "Logistic regression\n",
      "mean accuracy: 0.324736842788\n",
      "Logistic regression (1samp ttest):\n",
      "Ttest_1sampResult(statistic=-0.30706705741261137, pvalue=0.76231644869561455)\n",
      "\n",
      "SVM\n",
      "mean accuracy: 0.324736842105\n",
      "1samp ttest:\n",
      "Ttest_1sampResult(statistic=-0.35242936701678962, pvalue=0.72860912450487225)\n",
      "\n",
      "Neural network\n",
      "mean accuracy: 0.437894735289\n",
      "1samp ttest:\n",
      "Ttest_1sampResult(statistic=9.5651083747660977, pvalue=1.7624993419348233e-08)\n"
     ]
    }
   ],
   "source": [
    "get_results_all(scores_reg,scores_svm,scores_nn)"
   ]
  },
  {
   "cell_type": "markdown",
   "metadata": {},
   "source": [
    "## One layer (4), 1 epoch"
   ]
  },
  {
   "cell_type": "code",
   "execution_count": 9,
   "metadata": {
    "collapsed": false
   },
   "outputs": [
    {
     "name": "stdout",
     "output_type": "stream",
     "text": [
      "Neural network\n",
      "mean accuracy: 0.320526316468\n",
      "1samp ttest:\n",
      "Ttest_1sampResult(statistic=-1.1103966965744827, pvalue=0.28144190713986056)\n",
      "CPU times: user 24.8 s, sys: 1.2 s, total: 26 s\n",
      "Wall time: 24.3 s\n"
     ]
    }
   ],
   "source": [
    "%%time\n",
    "nn_scores_ind_df,scores_nn,nn_high_epoch = batch_nn([4,0,0],1)\n",
    "get_results_nn(scores_nn)"
   ]
  },
  {
   "cell_type": "markdown",
   "metadata": {},
   "source": [
    "## One layer (4), 20 epoch"
   ]
  },
  {
   "cell_type": "code",
   "execution_count": 13,
   "metadata": {
    "collapsed": false
   },
   "outputs": [
    {
     "name": "stdout",
     "output_type": "stream",
     "text": [
      "Neural network\n",
      "mean accuracy: 0.414210524998\n",
      "1samp ttest:\n",
      "Ttest_1sampResult(statistic=5.4165584373697193, pvalue=3.8029869747678356e-05)\n",
      "CPU times: user 1min 33s, sys: 17.7 s, total: 1min 51s\n",
      "Wall time: 1min 15s\n"
     ]
    }
   ],
   "source": [
    "%%time\n",
    "nn_scores_ind_df,scores_nn,nn_high_epoch = batch_nn([4,0,0],20)\n",
    "get_results_nn(scores_nn)"
   ]
  },
  {
   "cell_type": "markdown",
   "metadata": {},
   "source": [
    "## One layer (4), 50 epoch"
   ]
  },
  {
   "cell_type": "code",
   "execution_count": 10,
   "metadata": {
    "collapsed": false,
    "scrolled": true
   },
   "outputs": [
    {
     "name": "stdout",
     "output_type": "stream",
     "text": [
      "Neural network\n",
      "mean accuracy: 0.431578947133\n",
      "1samp ttest:\n",
      "Ttest_1sampResult(statistic=10.660254539237011, pvalue=3.3094332474230359e-09)\n",
      "CPU times: user 3min 21s, sys: 43.5 s, total: 4min 5s\n",
      "Wall time: 2min 36s\n"
     ]
    }
   ],
   "source": [
    "%%time\n",
    "nn_scores_ind_df,scores_nn,nn_high_epoch = batch_nn([4,0,0],50)\n",
    "get_results_nn(scores_nn)"
   ]
  },
  {
   "cell_type": "markdown",
   "metadata": {},
   "source": [
    "## One layer (10)"
   ]
  },
  {
   "cell_type": "code",
   "execution_count": 27,
   "metadata": {
    "collapsed": false,
    "scrolled": true
   },
   "outputs": [
    {
     "name": "stdout",
     "output_type": "stream",
     "text": [
      "Neural network\n",
      "mean accuracy: 0.402631579065\n",
      "1samp ttest:\n",
      "Ttest_1sampResult(statistic=7.1220701851301387, pvalue=1.2310758910164507e-06)\n",
      "CPU times: user 3min 31s, sys: 47.4 s, total: 4min 19s\n",
      "Wall time: 2min 52s\n"
     ]
    }
   ],
   "source": [
    "%%time\n",
    "nn_scores_ind_df,scores_nn,nn_high_epoch = batch_nn([10,0,0],50)\n",
    "get_results_nn(scores_nn)"
   ]
  },
  {
   "cell_type": "markdown",
   "metadata": {},
   "source": [
    "## Two layer (4,4)"
   ]
  },
  {
   "cell_type": "code",
   "execution_count": 76,
   "metadata": {
    "collapsed": false
   },
   "outputs": [
    {
     "name": "stdout",
     "output_type": "stream",
     "text": [
      "Neural network\n",
      "mean accuracy: 0.437894735289\n",
      "1samp ttest:\n",
      "Ttest_1sampResult(statistic=9.5651083747660977, pvalue=1.7624993419348233e-08)\n",
      "CPU times: user 4min 8s, sys: 1min, total: 5min 9s\n",
      "Wall time: 3min 20s\n"
     ]
    }
   ],
   "source": [
    "%%time\n",
    "nn_scores_ind_df,scores_nn,nn_high_epoch = batch_nn([4,4,0],50)\n",
    "get_results_nn(scores_nn)"
   ]
  },
  {
   "cell_type": "markdown",
   "metadata": {},
   "source": [
    "# Look at the data"
   ]
  },
  {
   "cell_type": "code",
   "execution_count": 32,
   "metadata": {
    "collapsed": false
   },
   "outputs": [
    {
     "data": {
      "text/html": [
       "<div>\n",
       "<table border=\"1\" class=\"dataframe\">\n",
       "  <thead>\n",
       "    <tr style=\"text-align: right;\">\n",
       "      <th></th>\n",
       "      <th>1</th>\n",
       "      <th>2</th>\n",
       "      <th>3</th>\n",
       "      <th>4</th>\n",
       "      <th>subject</th>\n",
       "    </tr>\n",
       "  </thead>\n",
       "  <tbody>\n",
       "    <tr>\n",
       "      <th>0</th>\n",
       "      <td>0.36</td>\n",
       "      <td>0.40</td>\n",
       "      <td>0.56</td>\n",
       "      <td>0.48</td>\n",
       "      <td>S1_A</td>\n",
       "    </tr>\n",
       "    <tr>\n",
       "      <th>1</th>\n",
       "      <td>0.40</td>\n",
       "      <td>0.40</td>\n",
       "      <td>0.36</td>\n",
       "      <td>0.44</td>\n",
       "      <td>S2_B</td>\n",
       "    </tr>\n",
       "    <tr>\n",
       "      <th>2</th>\n",
       "      <td>0.60</td>\n",
       "      <td>0.60</td>\n",
       "      <td>0.40</td>\n",
       "      <td>0.52</td>\n",
       "      <td>S3_A</td>\n",
       "    </tr>\n",
       "    <tr>\n",
       "      <th>3</th>\n",
       "      <td>0.52</td>\n",
       "      <td>0.52</td>\n",
       "      <td>0.48</td>\n",
       "      <td>0.44</td>\n",
       "      <td>S4_A</td>\n",
       "    </tr>\n",
       "    <tr>\n",
       "      <th>4</th>\n",
       "      <td>0.40</td>\n",
       "      <td>0.44</td>\n",
       "      <td>0.40</td>\n",
       "      <td>0.24</td>\n",
       "      <td>S5_A</td>\n",
       "    </tr>\n",
       "  </tbody>\n",
       "</table>\n",
       "</div>"
      ],
      "text/plain": [
       "      1     2     3     4 subject\n",
       "0  0.36  0.40  0.56  0.48    S1_A\n",
       "1  0.40  0.40  0.36  0.44    S2_B\n",
       "2  0.60  0.60  0.40  0.52    S3_A\n",
       "3  0.52  0.52  0.48  0.44    S4_A\n",
       "4  0.40  0.44  0.40  0.24    S5_A"
      ]
     },
     "execution_count": 32,
     "metadata": {},
     "output_type": "execute_result"
    }
   ],
   "source": [
    "    nn_scores_df = pd.DataFrame(data = scores_nn, columns = [1,2,3,4])\n",
    "    nn_scores_df[\"subject\"] = subjects\n",
    "    nn_scores_df.head(5)\n",
    "#     nn_high_epoch_df = pd.DataFrame(data = nn_high_epoch, columns = [1,2,3,4])\n",
    "#     nn_high_epoch_df[\"subject\"] = subjects"
   ]
  },
  {
   "cell_type": "code",
   "execution_count": 35,
   "metadata": {
    "collapsed": false,
    "scrolled": true
   },
   "outputs": [
    {
     "data": {
      "text/html": [
       "<div>\n",
       "<table border=\"1\" class=\"dataframe\">\n",
       "  <thead>\n",
       "    <tr style=\"text-align: right;\">\n",
       "      <th></th>\n",
       "      <th>subject</th>\n",
       "      <th>run</th>\n",
       "      <th>acc</th>\n",
       "    </tr>\n",
       "  </thead>\n",
       "  <tbody>\n",
       "    <tr>\n",
       "      <th>0</th>\n",
       "      <td>S1_A</td>\n",
       "      <td>1</td>\n",
       "      <td>0.36</td>\n",
       "    </tr>\n",
       "    <tr>\n",
       "      <th>1</th>\n",
       "      <td>S2_B</td>\n",
       "      <td>1</td>\n",
       "      <td>0.40</td>\n",
       "    </tr>\n",
       "    <tr>\n",
       "      <th>2</th>\n",
       "      <td>S3_A</td>\n",
       "      <td>1</td>\n",
       "      <td>0.60</td>\n",
       "    </tr>\n",
       "  </tbody>\n",
       "</table>\n",
       "</div>"
      ],
      "text/plain": [
       "  subject run   acc\n",
       "0    S1_A   1  0.36\n",
       "1    S2_B   1  0.40\n",
       "2    S3_A   1  0.60"
      ]
     },
     "execution_count": 35,
     "metadata": {},
     "output_type": "execute_result"
    }
   ],
   "source": [
    "nn_long_df = pd.melt(nn_scores_df,value_vars=[1,2,3,4],value_name = 'acc',id_vars ='subject', var_name = 'run')\n",
    "nn_long_df.head(3)"
   ]
  },
  {
   "cell_type": "markdown",
   "metadata": {},
   "source": [
    "# Subject specific"
   ]
  },
  {
   "cell_type": "code",
   "execution_count": 36,
   "metadata": {
    "collapsed": false
   },
   "outputs": [
    {
     "data": {
      "text/plain": [
       "<matplotlib.lines.Line2D at 0x10dbe4190>"
      ]
     },
     "execution_count": 36,
     "metadata": {},
     "output_type": "execute_result"
    },
    {
     "data": {
      "image/png": "[encoded data removed]",
      "text/plain": [
       "<matplotlib.figure.Figure at 0x1ac916b90>"
      ]
     },
     "metadata": {},
     "output_type": "display_data"
    }
   ],
   "source": [
    "sns.set(style=\"white\", context=\"talk\")\n",
    "plt.figure(num=None, figsize=(16, 6), dpi=80, facecolor='w', edgecolor='k')\n",
    "ax = sns.barplot(x=\"subject\", y=\"acc\", data=nn_long_df,linewidth=2.5, facecolor=(1, 1, 1, 0),\n",
    "                 errcolor=\".2\", edgecolor=\".2\")\n",
    "x = sns.swarmplot(x=\"subject\", y=\"acc\", data=nn_long_df, color=\".2\")\n",
    "plt.axhline(0.33,ls = 'dashed')\n"
   ]
  },
  {
   "cell_type": "markdown",
   "metadata": {},
   "source": [
    "# Run specific"
   ]
  },
  {
   "cell_type": "code",
   "execution_count": 38,
   "metadata": {
    "collapsed": false,
    "scrolled": true
   },
   "outputs": [
    {
     "data": {
      "image/png": "[encoded data removed]",
      "text/plain": [
       "<matplotlib.figure.Figure at 0x1ee370850>"
      ]
     },
     "metadata": {},
     "output_type": "display_data"
    }
   ],
   "source": [
    "sns.set(style=\"white\", context=\"talk\")\n",
    "ax = sns.pointplot(x=\"run\", y=\"acc\", data=nn_long_df)\n",
    "x = sns.swarmplot(x=\"run\", y=\"acc\", data=nn_long_df, color=\".25\")\n"
   ]
  },
  {
   "cell_type": "markdown",
   "metadata": {},
   "source": [
    "# City specific accuracy"
   ]
  },
  {
   "cell_type": "code",
   "execution_count": 79,
   "metadata": {
    "collapsed": true
   },
   "outputs": [],
   "source": [
    "nn_scores_ind_copy = nn_scores_ind_df.copy()"
   ]
  },
  {
   "cell_type": "code",
   "execution_count": 80,
   "metadata": {
    "collapsed": false,
    "scrolled": true
   },
   "outputs": [
    {
     "data": {
      "text/html": [
       "<div>\n",
       "<table border=\"1\" class=\"dataframe\">\n",
       "  <thead>\n",
       "    <tr style=\"text-align: right;\">\n",
       "      <th></th>\n",
       "      <th>city</th>\n",
       "      <th>city_pred</th>\n",
       "      <th>run</th>\n",
       "      <th>subject</th>\n",
       "      <th>acc</th>\n",
       "    </tr>\n",
       "  </thead>\n",
       "  <tbody>\n",
       "    <tr>\n",
       "      <th>0</th>\n",
       "      <td>2</td>\n",
       "      <td>2</td>\n",
       "      <td>0</td>\n",
       "      <td>S1_A</td>\n",
       "      <td>1</td>\n",
       "    </tr>\n",
       "    <tr>\n",
       "      <th>1</th>\n",
       "      <td>2</td>\n",
       "      <td>3</td>\n",
       "      <td>0</td>\n",
       "      <td>S1_A</td>\n",
       "      <td>0</td>\n",
       "    </tr>\n",
       "    <tr>\n",
       "      <th>2</th>\n",
       "      <td>1</td>\n",
       "      <td>1</td>\n",
       "      <td>0</td>\n",
       "      <td>S1_A</td>\n",
       "      <td>1</td>\n",
       "    </tr>\n",
       "    <tr>\n",
       "      <th>3</th>\n",
       "      <td>1</td>\n",
       "      <td>1</td>\n",
       "      <td>0</td>\n",
       "      <td>S1_A</td>\n",
       "      <td>1</td>\n",
       "    </tr>\n",
       "    <tr>\n",
       "      <th>4</th>\n",
       "      <td>2</td>\n",
       "      <td>3</td>\n",
       "      <td>0</td>\n",
       "      <td>S1_A</td>\n",
       "      <td>0</td>\n",
       "    </tr>\n",
       "  </tbody>\n",
       "</table>\n",
       "</div>"
      ],
      "text/plain": [
       "   city  city_pred  run subject  acc\n",
       "0     2          2    0    S1_A    1\n",
       "1     2          3    0    S1_A    0\n",
       "2     1          1    0    S1_A    1\n",
       "3     1          1    0    S1_A    1\n",
       "4     2          3    0    S1_A    0"
      ]
     },
     "execution_count": 80,
     "metadata": {},
     "output_type": "execute_result"
    }
   ],
   "source": [
    "#build data frames\n",
    "nn_scores_ind_copy.head(5)           \n",
    "nn_scores_ind_copy['acc'] = 0\n",
    "perf = nn_scores_ind_copy.city == nn_scores_ind_df.city_pred\n",
    "# nn_scores_ind_df.loc[nn_scores_ind_df['acc'][perf]] = 1\n",
    "nn_scores_ind_copy.loc[perf,'acc'] = 1\n",
    "nn_scores_ind_copy.head()"
   ]
  },
  {
   "cell_type": "code",
   "execution_count": 81,
   "metadata": {
    "collapsed": false,
    "scrolled": false
   },
   "outputs": [
    {
     "data": {
      "image/png": "[encoded data removed]",
      "text/plain": [
       "<matplotlib.figure.Figure at 0x1ef75ab90>"
      ]
     },
     "metadata": {},
     "output_type": "display_data"
    }
   ],
   "source": [
    "sns.set(style=\"white\", context=\"talk\")\n",
    "# plt.figure(num=None, figsize=(16, 6), dpi=80, facecolor='w', edgecolor='k')\n",
    "ax = sns.countplot(x=\"city\", hue=\"city_pred\",data=nn_scores_ind_df)\n",
    "# x = sns.swarmplot(x=\"subject\", y=\"acc\", data=nn_long_df, color=\".2\")\n",
    "# plt.axhline(0.33,ls = 'dashed')\n"
   ]
  },
  {
   "cell_type": "code",
   "execution_count": 84,
   "metadata": {
    "collapsed": false
   },
   "outputs": [
    {
     "data": {
      "text/html": [
       "<div>\n",
       "<table border=\"1\" class=\"dataframe\">\n",
       "  <thead>\n",
       "    <tr style=\"text-align: right;\">\n",
       "      <th></th>\n",
       "      <th>city</th>\n",
       "      <th>city_pred</th>\n",
       "      <th>run</th>\n",
       "      <th>subject</th>\n",
       "      <th>acc</th>\n",
       "    </tr>\n",
       "  </thead>\n",
       "  <tbody>\n",
       "    <tr>\n",
       "      <th>0</th>\n",
       "      <td>2</td>\n",
       "      <td>2</td>\n",
       "      <td>0</td>\n",
       "      <td>S1_A</td>\n",
       "      <td>1</td>\n",
       "    </tr>\n",
       "    <tr>\n",
       "      <th>1</th>\n",
       "      <td>2</td>\n",
       "      <td>3</td>\n",
       "      <td>0</td>\n",
       "      <td>S1_A</td>\n",
       "      <td>0</td>\n",
       "    </tr>\n",
       "    <tr>\n",
       "      <th>2</th>\n",
       "      <td>1</td>\n",
       "      <td>1</td>\n",
       "      <td>0</td>\n",
       "      <td>S1_A</td>\n",
       "      <td>1</td>\n",
       "    </tr>\n",
       "    <tr>\n",
       "      <th>3</th>\n",
       "      <td>1</td>\n",
       "      <td>1</td>\n",
       "      <td>0</td>\n",
       "      <td>S1_A</td>\n",
       "      <td>1</td>\n",
       "    </tr>\n",
       "    <tr>\n",
       "      <th>4</th>\n",
       "      <td>2</td>\n",
       "      <td>3</td>\n",
       "      <td>0</td>\n",
       "      <td>S1_A</td>\n",
       "      <td>0</td>\n",
       "    </tr>\n",
       "  </tbody>\n",
       "</table>\n",
       "</div>"
      ],
      "text/plain": [
       "   city  city_pred  run subject  acc\n",
       "0     2          2    0    S1_A    1\n",
       "1     2          3    0    S1_A    0\n",
       "2     1          1    0    S1_A    1\n",
       "3     1          1    0    S1_A    1\n",
       "4     2          3    0    S1_A    0"
      ]
     },
     "execution_count": 84,
     "metadata": {},
     "output_type": "execute_result"
    }
   ],
   "source": [
    "nn_scores_ind_copy.head()"
   ]
  },
  {
   "cell_type": "code",
   "execution_count": 116,
   "metadata": {
    "collapsed": false
   },
   "outputs": [
    {
     "data": {
      "text/plain": [
       "<pandas.core.groupby.DataFrameGroupBy object at 0x2004d6f10>"
      ]
     },
     "execution_count": 116,
     "metadata": {},
     "output_type": "execute_result"
    }
   ],
   "source": [
    "nn_scores_ind_copy['city']==1\n",
    "\n",
    "\n",
    "gb =nn_scores_ind_copy.groupby(['subject', 'city'])['acc'].mean()\n",
    "\n"
   ]
  },
  {
   "cell_type": "code",
   "execution_count": 129,
   "metadata": {
    "collapsed": false
   },
   "outputs": [],
   "source": [
    "c1_acc =nn_scores_ind_copy[nn_scores_ind_copy['city']==1].groupby(['subject'])['acc'].mean().values\n",
    "c2_acc =nn_scores_ind_copy[nn_scores_ind_copy['city']==2].groupby(['subject'])['acc'].mean().values\n",
    "c3_acc =nn_scores_ind_copy[nn_scores_ind_copy['city']==3].groupby(['subject'])['acc'].mean().values\n",
    "\n",
    "city_perf_df = pd.DataFrame({'city1'  : c1_acc,\n",
    "                             'city2'  : c2_acc,\n",
    "                             'city3'  : c3_acc,})\n",
    "            \n",
    "city_perf_long_df = pd.melt(city_perf_df,value_vars=['city1','city2','city3'],value_name = 'acc', var_name = 'city')\n"
   ]
  },
  {
   "cell_type": "code",
   "execution_count": 132,
   "metadata": {
    "collapsed": false
   },
   "outputs": [
    {
     "data": {
      "text/plain": [
       "<matplotlib.lines.Line2D at 0x2007bb110>"
      ]
     },
     "execution_count": 132,
     "metadata": {},
     "output_type": "execute_result"
    },
    {
     "data": {
      "image/png": "[encoded data removed]",
      "text/plain": [
       "<matplotlib.figure.Figure at 0x1eefce1d0>"
      ]
     },
     "metadata": {},
     "output_type": "display_data"
    }
   ],
   "source": [
    "sns.set(style=\"white\", context=\"talk\")\n",
    "ax = sns.barplot(x=\"city\", y=\"acc\", data=city_perf_long_df,linewidth=2.5)\n",
    "x = sns.swarmplot(x=\"city\", y=\"acc\", data=city_perf_long_df, color=\".2\")\n",
    "plt.axhline(0.33,ls = 'dashed')\n"
   ]
  },
  {
   "cell_type": "code",
   "execution_count": null,
   "metadata": {
    "collapsed": true
   },
   "outputs": [],
   "source": []
  }
 ],
 "metadata": {
  "anaconda-cloud": {},
  "kernelspec": {
   "display_name": "Python [default]",
   "language": "python",
   "name": "python2"
  },
  "language_info": {
   "codemirror_mode": {
    "name": "ipython",
    "version": 2
   },
   "file_extension": ".py",
   "mimetype": "text/x-python",
   "name": "python",
   "nbconvert_exporter": "python",
   "pygments_lexer": "ipython2",
   "version": "2.7.12"
  }
 },
 "nbformat": 4,
 "nbformat_minor": 2
}
